{
  "nbformat": 4,
  "nbformat_minor": 0,
  "metadata": {
    "colab": {
      "provenance": []
    },
    "kernelspec": {
      "name": "python3",
      "display_name": "Python 3"
    },
    "language_info": {
      "name": "python"
    }
  },
  "cells": [
    {
      "cell_type": "code",
      "execution_count": null,
      "metadata": {
        "id": "NbUBIc6_CMvu"
      },
      "outputs": [],
      "source": []
    },
    {
      "cell_type": "markdown",
      "source": [
        "**Question-1:** **What is the difference between a function and a method in Python?**\n",
        "\n",
        "**Answer:** The difference between a function and a method in Python lies in how they are called and where they are defined:\n",
        "\n",
        "🔹 Function:\n",
        "A function is a block of code that performs a specific task.\n",
        "\n",
        "Defined using the **def** keyword outside of a class.\n",
        "\n",
        "Can be called independently."
      ],
      "metadata": {
        "id": "BpUtMY4yCU8N"
      }
    },
    {
      "cell_type": "code",
      "source": [
        "def greet(name):\n",
        "    return f\"Hello, {name}!\"\n",
        "\n",
        "print(greet(\"Musadiq\"))"
      ],
      "metadata": {
        "colab": {
          "base_uri": "https://localhost:8080/"
        },
        "id": "lYMGeOzNDFPX",
        "outputId": "47d5ec2d-ac46-4ccf-b444-033f9bbd7070"
      },
      "execution_count": null,
      "outputs": [
        {
          "output_type": "stream",
          "name": "stdout",
          "text": [
            "Hello, Musadiq!\n"
          ]
        }
      ]
    },
    {
      "cell_type": "markdown",
      "source": [
        "🔹 Method:\n",
        "A method is a function that belongs to an object (usually defined inside a class).\n",
        "\n",
        "Called on an instance or class object using **dot** . notation.\n",
        "\n",
        "The first argument is typically self (for instance methods).\n",
        "\n",
        "Example:"
      ],
      "metadata": {
        "id": "maIKMHt_DYHU"
      }
    },
    {
      "cell_type": "code",
      "source": [
        "class Greeter:\n",
        "    def greet(self, name):\n",
        "        return f\"Hello, {name}!\"\n",
        "\n",
        "g = Greeter()\n",
        "print(g.greet(\"Musadiq\"))"
      ],
      "metadata": {
        "colab": {
          "base_uri": "https://localhost:8080/"
        },
        "id": "m82z9OBVDkEk",
        "outputId": "d5fec98f-19c4-49b1-e0a7-81148ef1bd0e"
      },
      "execution_count": null,
      "outputs": [
        {
          "output_type": "stream",
          "name": "stdout",
          "text": [
            "Hello, Musadiq!\n"
          ]
        }
      ]
    },
    {
      "cell_type": "markdown",
      "source": [
        "**Summary:**\n",
        "\n",
        "*   **Feature:>**\n",
        "\n",
        " Defined in\n",
        "\n",
        " Called using\n",
        "\n",
        " First arg\n",
        "\n",
        "\n",
        "*   **Function:>**\n",
        "\n",
        " Outside a class\n",
        "\n",
        "  Function name\n",
        "  \n",
        "   As needed\n",
        "\n",
        "\n",
        "*   **Method:>**\n",
        "\n",
        "Inside a class\n",
        "\n",
        "Object (or class) with dot .\n",
        "\n",
        "Usually self (for instances)"
      ],
      "metadata": {
        "id": "J9uJPc5YDwNE"
      }
    },
    {
      "cell_type": "markdown",
      "source": [
        "**Question-2:** **Explain the concept of function arguments and parameters in Python**\n",
        "\n",
        "\n",
        "**Answer:** In Python, parameters and arguments are terms used in the context of functions, and they often get mixed up — but they mean different things:\n",
        "\n",
        "**🔹 Parameters**\n",
        "\n",
        "These are placeholders or variable names defined in a function declaration.\n",
        "\n",
        "You define them when you're writing the function."
      ],
      "metadata": {
        "id": "wjsaDj5PFEjK"
      }
    },
    {
      "cell_type": "code",
      "source": [
        "def greet(name):  # 'name' is a parameter\n",
        "    print(f\"Hello, {name}!\")"
      ],
      "metadata": {
        "id": "LbLcbHVyGoBH"
      },
      "execution_count": null,
      "outputs": []
    },
    {
      "cell_type": "markdown",
      "source": [
        "**Arguments**\n",
        "\n",
        "These are the actual values you pass to the function when you call it.\n",
        "\n",
        "They are assigned to the parameters."
      ],
      "metadata": {
        "id": "9uEV2RhQGvzQ"
      }
    },
    {
      "cell_type": "code",
      "source": [
        "greet(\"Musadiq\")  # \"Alice\" is an argument"
      ],
      "metadata": {
        "colab": {
          "base_uri": "https://localhost:8080/"
        },
        "id": "kvQwP__wG7DX",
        "outputId": "9a97a3ea-c875-44bb-b4d6-7a6d37af6cb0"
      },
      "execution_count": null,
      "outputs": [
        {
          "output_type": "stream",
          "name": "stdout",
          "text": [
            "Hello, Musadiq!\n"
          ]
        }
      ]
    },
    {
      "cell_type": "code",
      "source": [
        "#Example\n",
        "\n",
        "def add(a, b):  # 'a' and 'b' are parameters\n",
        "    return a + b\n",
        "\n",
        "result = add(5, 3)  # 5 and 3 are arguments\n",
        "print(result)       # Output: 8"
      ],
      "metadata": {
        "colab": {
          "base_uri": "https://localhost:8080/"
        },
        "id": "ijWFT1OeHD6x",
        "outputId": "df7465ca-5604-476b-f49a-ac0113482354"
      },
      "execution_count": null,
      "outputs": [
        {
          "output_type": "stream",
          "name": "stdout",
          "text": [
            "8\n"
          ]
        }
      ]
    },
    {
      "cell_type": "markdown",
      "source": [
        "**Key Difference:**\n",
        "\n",
        "**Term:**\n",
        "\n",
        "Parameter\n",
        "\n",
        "Argument\n",
        "\n",
        "**When Used**\n",
        "\n",
        "When defining function\n",
        "\n",
        "When calling function\n",
        "\n",
        "**Example from def add(a, b):**\n",
        "\n",
        "a, b\n",
        "\n",
        "5, 3"
      ],
      "metadata": {
        "id": "d-Tqit5WHZhT"
      }
    },
    {
      "cell_type": "markdown",
      "source": [
        "**Question-3:** **What are the different ways to define and call a function in Python?**\n",
        "\n",
        "**Answer:**  In Python, functions can be defined and called in several different ways, depending on your needs. Here's an overview of the main ways to define and call functions, with examples for each:\n",
        "\n",
        "1. Using def Keyword\n",
        "\n",
        " Definition:"
      ],
      "metadata": {
        "id": "0M1NjTu9NOCT"
      }
    },
    {
      "cell_type": "code",
      "source": [
        "def greet(name):\n",
        "    return f\"Hello, {name}!\""
      ],
      "metadata": {
        "id": "FKOpe5WrN3Zg"
      },
      "execution_count": null,
      "outputs": []
    },
    {
      "cell_type": "code",
      "source": [
        "print(greet(\"Musadiq\"))  # Output: Hello, Musadiq!\n"
      ],
      "metadata": {
        "colab": {
          "base_uri": "https://localhost:8080/"
        },
        "id": "YPdroWJNN-jg",
        "outputId": "a5362531-ae32-45d0-fd8c-f4a9d3f947fe"
      },
      "execution_count": null,
      "outputs": [
        {
          "output_type": "stream",
          "name": "stdout",
          "text": [
            "Hello, Musadiq!\n"
          ]
        }
      ]
    },
    {
      "cell_type": "markdown",
      "source": [
        "2. Using lambda Functions (Anonymous Functions)\n",
        "\n",
        " Definition:"
      ],
      "metadata": {
        "id": "Wg0JHaCaOLi_"
      }
    },
    {
      "cell_type": "code",
      "source": [
        "add = lambda x, y: x + y"
      ],
      "metadata": {
        "id": "a0ck7tlnONTh"
      },
      "execution_count": null,
      "outputs": []
    },
    {
      "cell_type": "markdown",
      "source": [
        "Calling:"
      ],
      "metadata": {
        "id": "MhX8ItWgOXAG"
      }
    },
    {
      "cell_type": "code",
      "source": [
        "print(add(5, 3))  # Output: 8"
      ],
      "metadata": {
        "colab": {
          "base_uri": "https://localhost:8080/"
        },
        "id": "eUqRnpfIOaNt",
        "outputId": "ec9bebed-28e5-4aef-d238-f09d54d0b24d"
      },
      "execution_count": null,
      "outputs": [
        {
          "output_type": "stream",
          "name": "stdout",
          "text": [
            "8\n"
          ]
        }
      ]
    },
    {
      "cell_type": "markdown",
      "source": [
        "3. Default Arguments\n",
        "\n",
        " Definition:"
      ],
      "metadata": {
        "id": "m2hPaKh5Ois7"
      }
    },
    {
      "cell_type": "code",
      "source": [
        "def greet(name=\"Musadiq\"):\n",
        "    return f\"Hello, {name}!\""
      ],
      "metadata": {
        "id": "wzfr44t4OmcX"
      },
      "execution_count": null,
      "outputs": []
    },
    {
      "cell_type": "markdown",
      "source": [
        "Calling:"
      ],
      "metadata": {
        "id": "R1Y7vEoHOr6P"
      }
    },
    {
      "cell_type": "code",
      "source": [
        "print(greet())           # Output: Hello, Musadiq!\n",
        "print(greet(\"Musadiq\"))      # Output: Hello, MUsadiq!"
      ],
      "metadata": {
        "colab": {
          "base_uri": "https://localhost:8080/"
        },
        "id": "gvBkFHg_OpQs",
        "outputId": "7c2334a9-9edc-4df3-a676-34ed8eac7a4e"
      },
      "execution_count": null,
      "outputs": [
        {
          "output_type": "stream",
          "name": "stdout",
          "text": [
            "Hello, Musadiq!\n",
            "Hello, Musadiq!\n"
          ]
        }
      ]
    },
    {
      "cell_type": "markdown",
      "source": [
        "4. Variable-Length Arguments\n",
        "\n",
        " a. *args (non-keyworded args)"
      ],
      "metadata": {
        "id": "QzU9uOePPJMb"
      }
    },
    {
      "cell_type": "code",
      "source": [
        "def total(*numbers):\n",
        "    return sum(numbers)"
      ],
      "metadata": {
        "id": "7rTnPX3bPXjy"
      },
      "execution_count": null,
      "outputs": []
    },
    {
      "cell_type": "markdown",
      "source": [
        "Calling:"
      ],
      "metadata": {
        "id": "90dlq-DfPdk6"
      }
    },
    {
      "cell_type": "code",
      "source": [
        "print(total(1, 2, 3, 4))  # Output: 10"
      ],
      "metadata": {
        "colab": {
          "base_uri": "https://localhost:8080/"
        },
        "id": "Yvecn5FZPbcN",
        "outputId": "db6a70f9-542d-446c-b529-3e6c09423a06"
      },
      "execution_count": null,
      "outputs": [
        {
          "output_type": "stream",
          "name": "stdout",
          "text": [
            "10\n"
          ]
        }
      ]
    },
    {
      "cell_type": "markdown",
      "source": [
        "b. **kwargs (keyworded args)"
      ],
      "metadata": {
        "id": "Hzpx8Hx_Pi_u"
      }
    },
    {
      "cell_type": "code",
      "source": [
        "def print_info(**info):\n",
        "    for key, value in info.items():\n",
        "        print(f\"{key}: {value}\")"
      ],
      "metadata": {
        "id": "lMV5m4H-PodG"
      },
      "execution_count": null,
      "outputs": []
    },
    {
      "cell_type": "markdown",
      "source": [
        "Calling:"
      ],
      "metadata": {
        "id": "C_VXpx9RPwaj"
      }
    },
    {
      "cell_type": "code",
      "source": [
        "print_info(name=\"Musadiq\", age=26)\n",
        "# Output:\n",
        "# name: Musadiq\n",
        "# age: 26"
      ],
      "metadata": {
        "colab": {
          "base_uri": "https://localhost:8080/"
        },
        "id": "JdEtcpqXPxWS",
        "outputId": "34e54519-ed9d-4697-8ef6-40cb85e6b7df"
      },
      "execution_count": null,
      "outputs": [
        {
          "output_type": "stream",
          "name": "stdout",
          "text": [
            "name: Musadiq\n",
            "age: 26\n"
          ]
        }
      ]
    },
    {
      "cell_type": "markdown",
      "source": [
        "5. Nested Functions (Function inside a Function)\n",
        "\n",
        "\n",
        " Definition:"
      ],
      "metadata": {
        "id": "TY54hN-jQAPg"
      }
    },
    {
      "cell_type": "code",
      "source": [
        "def outer():\n",
        "    def inner():\n",
        "        return \"Inner function called\"\n",
        "    return inner()"
      ],
      "metadata": {
        "id": "yNLm576MP_b1"
      },
      "execution_count": null,
      "outputs": []
    },
    {
      "cell_type": "code",
      "source": [
        "print(outer())  # Output: Inner function called"
      ],
      "metadata": {
        "colab": {
          "base_uri": "https://localhost:8080/"
        },
        "id": "lzm392TrQKWR",
        "outputId": "53a19833-c96b-4985-9a90-a24fc9c680f4"
      },
      "execution_count": null,
      "outputs": [
        {
          "output_type": "stream",
          "name": "stdout",
          "text": [
            "Inner function called\n"
          ]
        }
      ]
    },
    {
      "cell_type": "markdown",
      "source": [
        "6. Passing Functions as Arguments\n",
        "\n",
        " Definition:"
      ],
      "metadata": {
        "id": "StnAE5t1QT1k"
      }
    },
    {
      "cell_type": "code",
      "source": [
        "def apply_func(func, value):\n",
        "    return func(value)\n",
        "\n",
        "def square(x):\n",
        "    return x * x"
      ],
      "metadata": {
        "id": "S4E5FIO9QYlj"
      },
      "execution_count": null,
      "outputs": []
    },
    {
      "cell_type": "markdown",
      "source": [
        "Calling:"
      ],
      "metadata": {
        "id": "KapdDOkHQdk5"
      }
    },
    {
      "cell_type": "code",
      "source": [
        "print(apply_func(square, 5))  # Output: 25"
      ],
      "metadata": {
        "colab": {
          "base_uri": "https://localhost:8080/"
        },
        "id": "wRFw2GD_Qc3n",
        "outputId": "ca1fe2d5-eb67-41dd-fbf5-3d8004da42ea"
      },
      "execution_count": null,
      "outputs": [
        {
          "output_type": "stream",
          "name": "stdout",
          "text": [
            "25\n"
          ]
        }
      ]
    },
    {
      "cell_type": "markdown",
      "source": [
        "7. Function with Return Values"
      ],
      "metadata": {
        "id": "549-lIHQQmS4"
      }
    },
    {
      "cell_type": "code",
      "source": [
        "def get_sum(a, b):\n",
        "    return a + b"
      ],
      "metadata": {
        "id": "KOWOpNWTQnwi"
      },
      "execution_count": null,
      "outputs": []
    },
    {
      "cell_type": "markdown",
      "source": [
        "Calling:"
      ],
      "metadata": {
        "id": "HkMQQs0mQt8Q"
      }
    },
    {
      "cell_type": "code",
      "source": [
        "result = get_sum(20, 30)\n",
        "print(result)  # Output: 50"
      ],
      "metadata": {
        "colab": {
          "base_uri": "https://localhost:8080/"
        },
        "id": "bNsTbY-7Qu2V",
        "outputId": "8c645002-5647-46ff-efe0-d04a0b6c963e"
      },
      "execution_count": null,
      "outputs": [
        {
          "output_type": "stream",
          "name": "stdout",
          "text": [
            "50\n"
          ]
        }
      ]
    },
    {
      "cell_type": "markdown",
      "source": [
        "8. Recursion (Function calling itself)"
      ],
      "metadata": {
        "id": "eapTIxl7Q6NE"
      }
    },
    {
      "cell_type": "code",
      "source": [
        "def factorial(n):\n",
        "    if n == 0:\n",
        "        return 1\n",
        "    return n * factorial(n - 1)"
      ],
      "metadata": {
        "id": "WMErjrr9Q7hj"
      },
      "execution_count": null,
      "outputs": []
    },
    {
      "cell_type": "markdown",
      "source": [
        "Calling:"
      ],
      "metadata": {
        "id": "Adi_OewARBv9"
      }
    },
    {
      "cell_type": "code",
      "source": [
        "print(factorial(5))  # Output: 120"
      ],
      "metadata": {
        "colab": {
          "base_uri": "https://localhost:8080/"
        },
        "id": "it3lWmBGQ-hp",
        "outputId": "6e3989b8-86f5-4948-c8cf-7ddad6bc9df8"
      },
      "execution_count": null,
      "outputs": [
        {
          "output_type": "stream",
          "name": "stdout",
          "text": [
            "120\n"
          ]
        }
      ]
    },
    {
      "cell_type": "markdown",
      "source": [
        "**Question-4:** **What is the purpose of the return statement in a Python function?**\n",
        "\n",
        "**Answer:** The return statement in a Python function is used to send a value back to the caller of the function. When a function is called, it can perform some operations, and then use return to provide the result of those operations. Once return is executed, the function ends.\n",
        "\n",
        "  **Purpose of return:**\n",
        "  \n",
        "To pass the result of a function back to the caller.\n",
        "\n",
        "To end the function's execution.\n",
        "\n",
        " Example:"
      ],
      "metadata": {
        "id": "aQXDS09nRQJM"
      }
    },
    {
      "cell_type": "code",
      "source": [
        "def add_numbers(a, b):\n",
        "    result = a + b\n",
        "    return result\n",
        "\n",
        "sum_result = add_numbers(5, 3)\n",
        "print(sum_result)  # Output: 8"
      ],
      "metadata": {
        "colab": {
          "base_uri": "https://localhost:8080/"
        },
        "id": "DF8FeIbER8A9",
        "outputId": "b83d06ba-73da-4664-9235-1cf044acb83d"
      },
      "execution_count": null,
      "outputs": [
        {
          "output_type": "stream",
          "name": "stdout",
          "text": [
            "8\n"
          ]
        }
      ]
    },
    {
      "cell_type": "markdown",
      "source": [
        "In this example:\n",
        "\n",
        "add_numbers takes two arguments, adds them, and returns the result.\n",
        "\n",
        "sum_result stores the value returned by the function.\n",
        "\n",
        "print(sum_result) displays the result."
      ],
      "metadata": {
        "id": "Q9gFL6qsSChH"
      }
    },
    {
      "cell_type": "markdown",
      "source": [
        "**Question-5:** **What are iterators in Python and how do they differ from iterables?**\n",
        "\n",
        "**Answer:** In Python, iterators and iterables are closely related concepts used in loops and iteration, but they are not the same.\n",
        "\n",
        "  **Iterable**\n",
        "An iterable is any Python object that can return its elements one at a time, allowing it to be looped over. Common examples include:\n",
        "\n",
        "Lists\n",
        "\n",
        "Tuples\n",
        "\n",
        "Dictionaries\n",
        "\n",
        "Strings\n",
        "\n",
        " To be **iterable**, an object must implement the __iter__() method.\n",
        "\n",
        "\n",
        "** Iterator**\n",
        "An iterator is an object that represents a stream of data; it returns one element at a time when you call next() on it.\n",
        "\n",
        " To be an iterator, an object must implement both:\n",
        "\n",
        "__iter__() — returns the iterator object itself\n",
        "\n",
        "__next__() — returns the next element, and raises StopIteration when no more items\n",
        "\n",
        "  **Difference Between Iterable and Iterator**\n",
        "\n",
        "Feature\tIterable\tIterator\n",
        "Method\tHas __iter__()\tHas both __iter__() and __next__()\n",
        "Usage\tCan be looped over (e.g. in for loop)\tUsed to fetch items one by one\n",
        "Converts To\tCan be converted to iterator using iter()\tAlready an iterator\n",
        "Example\tList, Tuple, String\tObject returned by iter()\n",
        "\n",
        "\n",
        " **Example:**"
      ],
      "metadata": {
        "id": "gxbl38XKYmDL"
      }
    },
    {
      "cell_type": "code",
      "source": [
        "# Iterable\n",
        "my_list = [1, 2, 3,]\n",
        "\n",
        "# This is an iterable (has __iter__)\n",
        "print(hasattr(my_list, '__iter__'))      # True\n",
        "print(hasattr(my_list, '__next__'))      # False\n",
        "\n",
        "# Convert iterable to iterator\n",
        "my_iterator = iter(my_list)\n",
        "\n",
        "# Now it's an iterator (has __next__)\n",
        "print(hasattr(my_iterator, '__iter__'))  # True\n",
        "print(hasattr(my_iterator, '__next__'))  # True\n",
        "\n",
        "# Using next() to access elements\n",
        "print(next(my_iterator))  # 1\n",
        "print(next(my_iterator))  # 2\n",
        "print(next(my_iterator))  # 3\n",
        "# print(next(my_iterator))  # Raises StopIteration"
      ],
      "metadata": {
        "colab": {
          "base_uri": "https://localhost:8080/"
        },
        "id": "w_b_CuY1aV3m",
        "outputId": "ac6253c3-51b9-410d-f77c-00b56908391b"
      },
      "execution_count": null,
      "outputs": [
        {
          "output_type": "stream",
          "name": "stdout",
          "text": [
            "True\n",
            "False\n",
            "True\n",
            "True\n",
            "1\n",
            "2\n",
            "3\n"
          ]
        }
      ]
    },
    {
      "cell_type": "markdown",
      "source": [
        "**In Summary:**\n",
        "\n",
        "**Iterable:** Can be looped over (e.g. for x in iterable)\n",
        "\n",
        "**Iterator:** Can get the next item using next()"
      ],
      "metadata": {
        "id": "doi7QKkDbPg5"
      }
    },
    {
      "cell_type": "markdown",
      "source": [
        "**Question-6:** **Explain the concept of generators in Python and how they are defined**\n",
        "\n",
        "**Answer:** Generators in Python are a simple and powerful tool for creating iterators. They allow you to iterate through a sequence of values without storing the entire sequence in memory, which makes them highly memory-efficient, especially for large datasets.\n",
        "\n",
        "**Generator**\n",
        "\n",
        "A generator is a special type of iterator that is defined using a function and the yield keyword, instead of return.\n",
        "\n",
        "When a generator function is called, it doesn’t execute immediately. Instead, it returns a generator object, which can be used to execute the function one step at a time, pausing at each yield."
      ],
      "metadata": {
        "id": "NXXkIujFbs2G"
      }
    },
    {
      "cell_type": "markdown",
      "source": [
        "**Defining a Generator Function**"
      ],
      "metadata": {
        "id": "B0Ep_qGwcYeI"
      }
    },
    {
      "cell_type": "code",
      "source": [
        "def my_generator():\n",
        "    yield 1\n",
        "    yield 2\n",
        "    yield 3"
      ],
      "metadata": {
        "id": "jAOGK8TrcaZy"
      },
      "execution_count": null,
      "outputs": []
    },
    {
      "cell_type": "markdown",
      "source": [
        "Calling my_generator() returns a generator object.\n",
        "\n",
        "Each time you call next() on the generator, it resumes where it left off and runs until it hits the next yield.\n",
        "\n",
        "**Example usage:**"
      ],
      "metadata": {
        "id": "s0sOCvWbciO7"
      }
    },
    {
      "cell_type": "code",
      "source": [
        "gen = my_generator()\n",
        "\n",
        "print(next(gen))  # 1\n",
        "print(next(gen))  # 2\n",
        "print(next(gen))  # 3\n",
        "# next(gen) now would raise StopIteration"
      ],
      "metadata": {
        "colab": {
          "base_uri": "https://localhost:8080/"
        },
        "id": "m23LdGX7cmRy",
        "outputId": "faf14932-9709-40e4-83f6-5ed926626590"
      },
      "execution_count": null,
      "outputs": [
        {
          "output_type": "stream",
          "name": "stdout",
          "text": [
            "1\n",
            "2\n",
            "3\n"
          ]
        }
      ]
    },
    {
      "cell_type": "markdown",
      "source": [
        "**Key Differences from Regular Functions**"
      ],
      "metadata": {
        "id": "ARpb4hbRc9WO"
      }
    },
    {
      "cell_type": "markdown",
      "source": [
        "**Feature:**\n",
        "\n",
        "Keyword used\n",
        "\n",
        "Returns\n",
        "\n",
        "Executions\n",
        "\n",
        "Memory Usage"
      ],
      "metadata": {
        "id": "KnMhB3_wdTMv"
      }
    },
    {
      "cell_type": "markdown",
      "source": [
        "**Regular Function:**"
      ],
      "metadata": {
        "id": "y9Cm65Nedn1g"
      }
    },
    {
      "cell_type": "markdown",
      "source": [
        "**return**\n",
        "\n",
        "A Value\n",
        "\n",
        "Runs all at once\n",
        "\n",
        "stores  all values"
      ],
      "metadata": {
        "id": "zysbyKV8d6cV"
      }
    },
    {
      "cell_type": "markdown",
      "source": [
        "**Genarator Function**\n",
        "\n",
        "**yield**\n",
        "\n",
        "\tA generator object\n",
        "\n",
        "  Pauses and resumes on yield\n",
        "\n",
        "  Generates one value at a time"
      ],
      "metadata": {
        "id": "8mdbJyZFeA6H"
      }
    },
    {
      "cell_type": "markdown",
      "source": [
        "**Use Case: Infinite Sequences**"
      ],
      "metadata": {
        "id": "1TT92qXte1lM"
      }
    },
    {
      "cell_type": "code",
      "source": [
        "def infinite_counter(start=0):\n",
        "    while True:\n",
        "        yield start\n",
        "        start += 1"
      ],
      "metadata": {
        "id": "0mC7b5RJe9HL"
      },
      "execution_count": null,
      "outputs": []
    },
    {
      "cell_type": "markdown",
      "source": [
        "This generator creates an infinite sequence—super useful when you don’t know how many values you need ahead of time.\n",
        "\n",
        " When to Use Generators\n",
        "When working with large datasets or streams of data\n",
        "\n",
        "When you need lazy evaluation\n",
        "\n",
        "When you want to write readable code for custom iterators"
      ],
      "metadata": {
        "id": "PTsMB6ydfD0P"
      }
    },
    {
      "cell_type": "markdown",
      "source": [
        "**Question-7:** **What are the advantages of using generators over regular functions?**\n",
        "\n",
        "**Answer:** Generators offer several advantages over regular functions, especially when dealing with\n",
        "large datasets or streams of data. Here are the key benefits:\n",
        "Advantages of Generators:\n",
        "\n",
        "a.)**Memory Efficiency-**\n",
        "● Generators yield items one at a time, so they don’t store the entire result in memory. Great\n",
        "for working with large data or infinite sequences.\n",
        "\n",
        "\n",
        "b.)**Lazy Evaluation-**\n",
        "Values are generated only when requested, which can lead to performance improvements and reduced processing time.\n",
        "\n",
        "c.)**State Retention-**\n",
        "Generators automatically save their state between yield calls, so they resume exactly where they left\n",
        "off—without needing to manage state manually.\n",
        "\n",
        "d.) **Cleaner Code-**\n",
        " Using yield can simplify the logic compared to maintaining manual loops, lists, or stateful\n",
        "iterators.\n",
        "\n",
        "e.) **Can Represent Infinite Sequences-**\n",
        " Generators can represent sequences with no end (like Fibonacci numbers or live data\n",
        "streams), which regular functions can’t do as easily.\n",
        "\n",
        "**Example:**"
      ],
      "metadata": {
        "id": "B51jlFw0fPvW"
      }
    },
    {
      "cell_type": "markdown",
      "source": [
        "**Regular Function:**"
      ],
      "metadata": {
        "id": "NCLthODHH5rN"
      }
    },
    {
      "source": [
        "def get_squares(limit):\n",
        "    result = [] # Indented this line\n",
        "    for i in range(limit): # Indented this line\n",
        "        result.append(i * i) # Indented this line\n",
        "    return result # Indented this line\n",
        "print(get_squares(5)) # [0, 1, 4, 9, 16]"
      ],
      "cell_type": "code",
      "metadata": {
        "colab": {
          "base_uri": "https://localhost:8080/"
        },
        "id": "B9U4lAhxJvYN",
        "outputId": "1370c87e-ffca-4dae-f0b0-9b5fde4a7daa"
      },
      "execution_count": 3,
      "outputs": [
        {
          "output_type": "stream",
          "name": "stdout",
          "text": [
            "[0, 1, 4, 9, 16]\n"
          ]
        }
      ]
    },
    {
      "cell_type": "markdown",
      "source": [
        "**Generator:**"
      ],
      "metadata": {
        "id": "lLaUkQM_J07L"
      }
    },
    {
      "source": [
        "def generate_squares(limit):\n",
        "    for i in range(limit):\n",
        "        yield i * i\n",
        "\n",
        "for square in generate_squares(5):\n",
        "    print(square) # Outputs: 0, 1, 4, 9, 16 (one at a time)"
      ],
      "cell_type": "code",
      "metadata": {
        "colab": {
          "base_uri": "https://localhost:8080/"
        },
        "id": "cB-7pnZ8KNML",
        "outputId": "fa320210-6ab3-4d26-8f1e-69d951168fae"
      },
      "execution_count": 5,
      "outputs": [
        {
          "output_type": "stream",
          "name": "stdout",
          "text": [
            "0\n",
            "1\n",
            "4\n",
            "9\n",
            "16\n"
          ]
        }
      ]
    },
    {
      "cell_type": "markdown",
      "source": [
        "**Question-8:** **What is a lambda function in Python and when is it typically used?**\n",
        "\n",
        "**Answer:** A lambda function in Python is a small, anonymous function defined using the lambda\n",
        "keyword. It's typically used when you need a simple function for a short period and don't\n",
        "want to formally define it using def.\n",
        "\n",
        "When is it used?\n",
        "\n",
        "Lambda functions are commonly used:\n",
        "\n",
        " As a quick function passed to map(), filter(), or sorted()\n",
        "\n",
        "  When writing short, throwaway functions\n",
        "\n",
        "To simplify code where defining a full function with def would be overkill"
      ],
      "metadata": {
        "id": "NqnbGAVNKXRc"
      }
    },
    {
      "cell_type": "code",
      "source": [
        "#Sort a list of tuples by the second item: example-\n",
        "data = [(1, 'apple'), (3, 'banana'), (2, 'cherry')]\n",
        "\n",
        "sorted_data = sorted(data, key=lambda x: x[1])\n",
        "print(sorted_data)\n",
        "\n",
        "[(1, 'apple'), (3, 'banana'), (2, 'cherry')]"
      ],
      "metadata": {
        "colab": {
          "base_uri": "https://localhost:8080/"
        },
        "id": "FsRIW9dhK6TJ",
        "outputId": "b24c1ec1-7424-4842-90f1-608c2ce63cc0"
      },
      "execution_count": 6,
      "outputs": [
        {
          "output_type": "stream",
          "name": "stdout",
          "text": [
            "[(1, 'apple'), (3, 'banana'), (2, 'cherry')]\n"
          ]
        },
        {
          "output_type": "execute_result",
          "data": {
            "text/plain": [
              "[(1, 'apple'), (3, 'banana'), (2, 'cherry')]"
            ]
          },
          "metadata": {},
          "execution_count": 6
        }
      ]
    },
    {
      "cell_type": "markdown",
      "source": [
        "**Question-9:** **Explain the purpose and usage of the `map()` function in Python**\n",
        "\n",
        "**Answer:**"
      ],
      "metadata": {
        "id": "KpfwQJ8DLEw9"
      }
    },
    {
      "cell_type": "markdown",
      "source": [
        "The map() function in Python is used to apply a function to every item in an iterable (like a list, tuple,\n",
        "etc.) and return a new map object (which is an iterator) with the results.\n",
        "\n",
        "**Syntax**"
      ],
      "metadata": {
        "id": "ohAAEOzgMBLn"
      }
    },
    {
      "cell_type": "code",
      "source": [
        "#map(function, iterable)"
      ],
      "metadata": {
        "id": "Q2hJUTRIMNSf"
      },
      "execution_count": 9,
      "outputs": []
    },
    {
      "cell_type": "markdown",
      "source": [
        "● function – the function to apply to each element of the iterable.\n",
        "\n",
        "● iterable – the collection of items (like a list) you want to process"
      ],
      "metadata": {
        "id": "6sayC773Mivd"
      }
    },
    {
      "cell_type": "markdown",
      "source": [
        "**Examples**\n"
      ],
      "metadata": {
        "id": "RCaZS9kqMniZ"
      }
    },
    {
      "source": [
        "def square(x):\n",
        "    return x * x  # Indented this line to be part of the function body\n",
        "\n",
        "numbers = [1, 2, 3, 4, 5]\n",
        "squared_numbers = map(square, numbers)\n",
        "# Convert map object to list\n",
        "\n",
        "print(list(squared_numbers))\n",
        "\n",
        "# Expected Output: [1, 4, 9, 16, 25]"
      ],
      "cell_type": "code",
      "metadata": {
        "colab": {
          "base_uri": "https://localhost:8080/"
        },
        "id": "e_M_OX-0M6Sh",
        "outputId": "199cf449-ef16-426d-f85c-6a5f91dc1380"
      },
      "execution_count": 12,
      "outputs": [
        {
          "output_type": "stream",
          "name": "stdout",
          "text": [
            "[1, 4, 9, 16, 25]\n"
          ]
        }
      ]
    },
    {
      "cell_type": "markdown",
      "source": [
        "**Question-10: What is the difference between map(), reduce(), and filter() functions in Python?**\n",
        "\n",
        "**Answer:** In Python, map(), reduce(), and filter() are built-in functions used for functional programming.\n",
        "They operate on sequences (like lists, tuples, etc.) and allow concise, expressive\n",
        "transformations or evaluations.\n",
        "🔹 map():\n",
        "\n",
        " **Purpose:** Applies a function to every item in an iterable.\n",
        "\n",
        " **Returns:** A new iterable (map object) with the results.\n",
        "\n",
        "**Example:**"
      ],
      "metadata": {
        "id": "JgI40_2cNBf4"
      }
    },
    {
      "cell_type": "code",
      "source": [
        "numbers = [1, 2, 3, 4]\n",
        "squared = list(map(lambda x: x ** 2, numbers))\n",
        "print(squared) # Output: [1, 4, 9, 16]"
      ],
      "metadata": {
        "colab": {
          "base_uri": "https://localhost:8080/"
        },
        "id": "3RwXIFT-NqTu",
        "outputId": "d8140cbe-51dc-45a7-b94d-6e889ac22344"
      },
      "execution_count": 13,
      "outputs": [
        {
          "output_type": "stream",
          "name": "stdout",
          "text": [
            "[1, 4, 9, 16]\n"
          ]
        }
      ]
    },
    {
      "cell_type": "markdown",
      "source": [
        " **filter():**\n",
        "\n",
        " **Purpose:** Filters items in an iterable based on a Boolean condition (returns only True values).\n",
        "\n",
        " **Returns:** A new iterable (filter object) with items that meet the condition.\n",
        "\n",
        "**Example:**"
      ],
      "metadata": {
        "id": "yU1H2X0eNsQj"
      }
    },
    {
      "cell_type": "code",
      "source": [
        "numbers = [1, 2, 3, 4, 5]\n",
        "evens = list(filter(lambda x: x % 2 == 0, numbers))\n",
        "print(evens) # Output: [2, 4]"
      ],
      "metadata": {
        "colab": {
          "base_uri": "https://localhost:8080/"
        },
        "id": "TFEWeoKMN-Ig",
        "outputId": "caca9e86-c0f4-41cb-c436-e63004e597a0"
      },
      "execution_count": 14,
      "outputs": [
        {
          "output_type": "stream",
          "name": "stdout",
          "text": [
            "[2, 4]\n"
          ]
        }
      ]
    },
    {
      "cell_type": "markdown",
      "source": [
        "**reduce() (from functools):**\n",
        "\n",
        " **Purpose:** Applies a function cumulatively to the items of an iterable, reducing it to a single\n",
        "value.\n",
        "\n",
        " **Returns:** A single result.\n",
        "\n",
        "**Example:**"
      ],
      "metadata": {
        "id": "qHqREzuYOELL"
      }
    },
    {
      "cell_type": "code",
      "source": [
        "from functools import reduce\n",
        "numbers = [1, 2, 3, 4]\n",
        "product = reduce(lambda x, y: x * y, numbers)\n",
        "print(product) # Output: 24"
      ],
      "metadata": {
        "colab": {
          "base_uri": "https://localhost:8080/"
        },
        "id": "sVodFbPTOQqf",
        "outputId": "0c347490-ff19-4b69-c9a9-364b7d16df5f"
      },
      "execution_count": 15,
      "outputs": [
        {
          "output_type": "stream",
          "name": "stdout",
          "text": [
            "24\n"
          ]
        }
      ]
    },
    {
      "cell_type": "markdown",
      "source": [
        "**Question-11: Using pen & Paper write the internal mechanism for sum operation using  reduce function on this given**\n",
        "list:[47,11,42,13];\n",
        "\n",
        "(Attach paper image for this answer) in doc or colab notebook.\n",
        "\n",
        "\n",
        "**Answer:**\n",
        "\n",
        "![AssignmentQ11.jpg](data:image/jpeg;base64,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)"
      ],
      "metadata": {
        "id": "LKAkAlrh7JlE"
      }
    },
    {
      "cell_type": "markdown",
      "source": [
        "**PRACTICAL QUESTIONS**\n",
        "\n"
      ],
      "metadata": {
        "id": "RctRNJ9p8lrF"
      }
    },
    {
      "cell_type": "code",
      "source": [
        "#Question-1: Write a Python function that takes a list of numbers as input and returns the sum of all even numbers in\n",
        "# the list.\n",
        "\n",
        "def sum_of_even_numbers(numbers):\n",
        "    sum_even = 0\n",
        "    for number in numbers:\n",
        "        if number % 2 == 0:\n",
        "            sum_even += number\n",
        "    return sum_even\n",
        "\n",
        "my_list = [1, 2, 3, 4, 5, 6]\n",
        "result = sum_of_even_numbers(my_list)\n",
        "print(result)"
      ],
      "metadata": {
        "colab": {
          "base_uri": "https://localhost:8080/"
        },
        "id": "Ta_FmIQG8uLG",
        "outputId": "14c30581-ea95-4a58-c16d-b48a1d32beda"
      },
      "execution_count": 73,
      "outputs": [
        {
          "output_type": "stream",
          "name": "stdout",
          "text": [
            "12\n"
          ]
        }
      ]
    },
    {
      "source": [
        "#Question-2: Create a Python function that accepts a string and returns the reverse of that string.\n",
        "def reverse_string(text):\n",
        "    return text[::-1]  # Indented this line to be part of the function body\n",
        "text = \"Hello, world!\"\n",
        "reversed_text = reverse_string(text)\n",
        "print(reversed_text)"
      ],
      "cell_type": "code",
      "metadata": {
        "colab": {
          "base_uri": "https://localhost:8080/"
        },
        "id": "wgKMpGHG-U5T",
        "outputId": "1ac4d49b-bfd8-444f-d391-a7a7928f5d3a"
      },
      "execution_count": 74,
      "outputs": [
        {
          "output_type": "stream",
          "name": "stdout",
          "text": [
            "!dlrow ,olleH\n"
          ]
        }
      ]
    },
    {
      "cell_type": "code",
      "source": [
        "#Question-3: Implement a Python function that takes a list of integers and returns a\n",
        "#new list containing the squares of each number.\n",
        "def square_numbers(numbers):\n",
        "    return [x**2 for x in numbers]\n",
        "nums = [1, 2, 3, 4, 5,6]\n",
        "squared = square_numbers(nums)\n",
        "print(squared)\n",
        "nums = [1, 2, 3, 4, 5,6]"
      ],
      "metadata": {
        "colab": {
          "base_uri": "https://localhost:8080/"
        },
        "id": "MIBsnwvk-m85",
        "outputId": "67faa719-5426-4fd3-8ed5-bde2b71bcd5a"
      },
      "execution_count": 75,
      "outputs": [
        {
          "output_type": "stream",
          "name": "stdout",
          "text": [
            "[1, 4, 9, 16, 25, 36]\n"
          ]
        }
      ]
    },
    {
      "source": [
        "#Question-4: . Write a Python function that checks if a given number is prime or not from 1 to 200\n",
        "def is_prime(n):\n",
        "    if n <= 1:\n",
        "        return False\n",
        "    if n == 2:\n",
        "        return True\n",
        "    if n % 2 == 0:\n",
        "        return False\n",
        "    for i in range(3, int(n**0.5) + 1, 2):\n",
        "        if n % i == 0:\n",
        "            return False\n",
        "    return True\n",
        "# Example: Check all numbers from 1 to 200\n",
        "for number in range(1, 201):\n",
        "    result = \"Prime\" if is_prime(number) else \"Not Prime\"\n",
        "    print(f\"{number}: {result}\")"
      ],
      "cell_type": "code",
      "metadata": {
        "colab": {
          "base_uri": "https://localhost:8080/"
        },
        "id": "nrQ-m2ga_oO4",
        "outputId": "b57ece6b-ac0e-4ac8-aed7-a729859426af"
      },
      "execution_count": 76,
      "outputs": [
        {
          "output_type": "stream",
          "name": "stdout",
          "text": [
            "1: Not Prime\n",
            "2: Prime\n",
            "3: Prime\n",
            "4: Not Prime\n",
            "5: Prime\n",
            "6: Not Prime\n",
            "7: Prime\n",
            "8: Not Prime\n",
            "9: Not Prime\n",
            "10: Not Prime\n",
            "11: Prime\n",
            "12: Not Prime\n",
            "13: Prime\n",
            "14: Not Prime\n",
            "15: Not Prime\n",
            "16: Not Prime\n",
            "17: Prime\n",
            "18: Not Prime\n",
            "19: Prime\n",
            "20: Not Prime\n",
            "21: Not Prime\n",
            "22: Not Prime\n",
            "23: Prime\n",
            "24: Not Prime\n",
            "25: Not Prime\n",
            "26: Not Prime\n",
            "27: Not Prime\n",
            "28: Not Prime\n",
            "29: Prime\n",
            "30: Not Prime\n",
            "31: Prime\n",
            "32: Not Prime\n",
            "33: Not Prime\n",
            "34: Not Prime\n",
            "35: Not Prime\n",
            "36: Not Prime\n",
            "37: Prime\n",
            "38: Not Prime\n",
            "39: Not Prime\n",
            "40: Not Prime\n",
            "41: Prime\n",
            "42: Not Prime\n",
            "43: Prime\n",
            "44: Not Prime\n",
            "45: Not Prime\n",
            "46: Not Prime\n",
            "47: Prime\n",
            "48: Not Prime\n",
            "49: Not Prime\n",
            "50: Not Prime\n",
            "51: Not Prime\n",
            "52: Not Prime\n",
            "53: Prime\n",
            "54: Not Prime\n",
            "55: Not Prime\n",
            "56: Not Prime\n",
            "57: Not Prime\n",
            "58: Not Prime\n",
            "59: Prime\n",
            "60: Not Prime\n",
            "61: Prime\n",
            "62: Not Prime\n",
            "63: Not Prime\n",
            "64: Not Prime\n",
            "65: Not Prime\n",
            "66: Not Prime\n",
            "67: Prime\n",
            "68: Not Prime\n",
            "69: Not Prime\n",
            "70: Not Prime\n",
            "71: Prime\n",
            "72: Not Prime\n",
            "73: Prime\n",
            "74: Not Prime\n",
            "75: Not Prime\n",
            "76: Not Prime\n",
            "77: Not Prime\n",
            "78: Not Prime\n",
            "79: Prime\n",
            "80: Not Prime\n",
            "81: Not Prime\n",
            "82: Not Prime\n",
            "83: Prime\n",
            "84: Not Prime\n",
            "85: Not Prime\n",
            "86: Not Prime\n",
            "87: Not Prime\n",
            "88: Not Prime\n",
            "89: Prime\n",
            "90: Not Prime\n",
            "91: Not Prime\n",
            "92: Not Prime\n",
            "93: Not Prime\n",
            "94: Not Prime\n",
            "95: Not Prime\n",
            "96: Not Prime\n",
            "97: Prime\n",
            "98: Not Prime\n",
            "99: Not Prime\n",
            "100: Not Prime\n",
            "101: Prime\n",
            "102: Not Prime\n",
            "103: Prime\n",
            "104: Not Prime\n",
            "105: Not Prime\n",
            "106: Not Prime\n",
            "107: Prime\n",
            "108: Not Prime\n",
            "109: Prime\n",
            "110: Not Prime\n",
            "111: Not Prime\n",
            "112: Not Prime\n",
            "113: Prime\n",
            "114: Not Prime\n",
            "115: Not Prime\n",
            "116: Not Prime\n",
            "117: Not Prime\n",
            "118: Not Prime\n",
            "119: Not Prime\n",
            "120: Not Prime\n",
            "121: Not Prime\n",
            "122: Not Prime\n",
            "123: Not Prime\n",
            "124: Not Prime\n",
            "125: Not Prime\n",
            "126: Not Prime\n",
            "127: Prime\n",
            "128: Not Prime\n",
            "129: Not Prime\n",
            "130: Not Prime\n",
            "131: Prime\n",
            "132: Not Prime\n",
            "133: Not Prime\n",
            "134: Not Prime\n",
            "135: Not Prime\n",
            "136: Not Prime\n",
            "137: Prime\n",
            "138: Not Prime\n",
            "139: Prime\n",
            "140: Not Prime\n",
            "141: Not Prime\n",
            "142: Not Prime\n",
            "143: Not Prime\n",
            "144: Not Prime\n",
            "145: Not Prime\n",
            "146: Not Prime\n",
            "147: Not Prime\n",
            "148: Not Prime\n",
            "149: Prime\n",
            "150: Not Prime\n",
            "151: Prime\n",
            "152: Not Prime\n",
            "153: Not Prime\n",
            "154: Not Prime\n",
            "155: Not Prime\n",
            "156: Not Prime\n",
            "157: Prime\n",
            "158: Not Prime\n",
            "159: Not Prime\n",
            "160: Not Prime\n",
            "161: Not Prime\n",
            "162: Not Prime\n",
            "163: Prime\n",
            "164: Not Prime\n",
            "165: Not Prime\n",
            "166: Not Prime\n",
            "167: Prime\n",
            "168: Not Prime\n",
            "169: Not Prime\n",
            "170: Not Prime\n",
            "171: Not Prime\n",
            "172: Not Prime\n",
            "173: Prime\n",
            "174: Not Prime\n",
            "175: Not Prime\n",
            "176: Not Prime\n",
            "177: Not Prime\n",
            "178: Not Prime\n",
            "179: Prime\n",
            "180: Not Prime\n",
            "181: Prime\n",
            "182: Not Prime\n",
            "183: Not Prime\n",
            "184: Not Prime\n",
            "185: Not Prime\n",
            "186: Not Prime\n",
            "187: Not Prime\n",
            "188: Not Prime\n",
            "189: Not Prime\n",
            "190: Not Prime\n",
            "191: Prime\n",
            "192: Not Prime\n",
            "193: Prime\n",
            "194: Not Prime\n",
            "195: Not Prime\n",
            "196: Not Prime\n",
            "197: Prime\n",
            "198: Not Prime\n",
            "199: Prime\n",
            "200: Not Prime\n"
          ]
        }
      ]
    },
    {
      "source": [
        "#Question-5: Create an iterator class in Python that generates the Fibonacci sequence\n",
        "# up to a specified number of terms.\n",
        "class FibonacciIterator:\n",
        "    def __init__(self, max_terms):\n",
        "        self.max_terms = max_terms\n",
        "        self.count = 0\n",
        "        self.a = 0\n",
        "        self.b = 1\n",
        "    def __iter__(self):\n",
        "        return self  # Indented this line to be part of the function body\n",
        "    def __next__(self):\n",
        "        if self.count >= self.max_terms:\n",
        "            raise StopIteration\n",
        "        if self.count == 0:\n",
        "            self.count += 1\n",
        "            return self.a\n",
        "        elif self.count == 1:\n",
        "            self.count += 1\n",
        "            return self.b\n",
        "        else:\n",
        "            self.a, self.b = self.b, self.a + self.b\n",
        "            self.count += 1\n",
        "            return self.b\n",
        "\n",
        "# Example usage\n",
        "fib = FibonacciIterator(10)\n",
        "for num in fib:\n",
        "    print(num)"
      ],
      "cell_type": "code",
      "metadata": {
        "colab": {
          "base_uri": "https://localhost:8080/"
        },
        "id": "Q4XqjLsGAWfN",
        "outputId": "a0008f0b-d52e-48db-9fee-56ec6c74f097"
      },
      "execution_count": 77,
      "outputs": [
        {
          "output_type": "stream",
          "name": "stdout",
          "text": [
            "0\n",
            "1\n",
            "1\n",
            "2\n",
            "3\n",
            "5\n",
            "8\n",
            "13\n",
            "21\n",
            "34\n"
          ]
        }
      ]
    },
    {
      "source": [
        "#Question-6: Write a generator function in Python that yields the powers of 2 up to a\n",
        "# given exponent.\n",
        "\n",
        "def powers_of_two(max_exponent):\n",
        "    for exponent in range(max_exponent + 1):\n",
        "        yield 2 ** exponent\n",
        "for power in powers_of_two(5):\n",
        "    print(power)"
      ],
      "cell_type": "code",
      "metadata": {
        "colab": {
          "base_uri": "https://localhost:8080/"
        },
        "id": "IGe8EMJmAur4",
        "outputId": "b405b73f-a0b9-4445-feb6-be0d406cd472"
      },
      "execution_count": 82,
      "outputs": [
        {
          "output_type": "stream",
          "name": "stdout",
          "text": [
            "1\n",
            "2\n",
            "4\n",
            "8\n",
            "16\n",
            "32\n"
          ]
        }
      ]
    },
    {
      "cell_type": "code",
      "source": [
        "#Question-7: Implement a generator function that reads a file line by line and yields\n",
        "# each line as a string.\n",
        "\n",
        "def read_file_line_by_line(filepath):\n",
        "    \"\"\"Reads a file line by line and yields each line as a string.\n",
        "    Args:\n",
        "        filepath: The path to the file.\n",
        "    Yields:\n",
        "        str: Each line from the file.\n",
        "    \"\"\"\n",
        "    try:\n",
        "        with open(filepath, 'r') as file:\n",
        "            for line in file: #Corrected indentation\n",
        "                yield line.rstrip('\\n') # Remove trailing newline character #Corrected indentation\n",
        "    except FileNotFoundError:\n",
        "        print(f\"Error: File not found at {filepath}\")\n",
        "\n",
        "# Example usage:\n",
        "if __name__ == \"__main__\":\n",
        "    # Create a sample file\n",
        "    with open(\"sample.txt\", \"w\") as f:\n",
        "        f.write(\"This is the first line.\\n\")\n",
        "        f.write(\"This is the second line.\\n\")\n",
        "        f.write(\"And this is the third line.\\n\")\n",
        "    # Use the generator function to read and print the file\n",
        "    for line in read_file_line_by_line(\"sample.txt\"):\n",
        "        print(f\"Line: {line}\")"
      ],
      "metadata": {
        "colab": {
          "base_uri": "https://localhost:8080/"
        },
        "id": "gwO252dsBiZo",
        "outputId": "76faf413-c3cc-4ccc-ceb3-0cba39657e20"
      },
      "execution_count": 83,
      "outputs": [
        {
          "output_type": "stream",
          "name": "stdout",
          "text": [
            "Line: This is the first line.\n",
            "Line: This is the second line.\n",
            "Line: And this is the third line.\n"
          ]
        }
      ]
    },
    {
      "cell_type": "code",
      "source": [
        "#Question-8: Use a lambda function in Python to sort a list of tuples based on the\n",
        "# second element of each tuple.\n",
        "# Sample list of tuples\n",
        "my_list = [(1, 3), (4, 1), (2, 2), (5, 0)]\n",
        "# Sort using lambda (based on the second element)\n",
        "sorted_list = sorted(my_list, key=lambda x: x[1])\n",
        "print(sorted_list)"
      ],
      "metadata": {
        "colab": {
          "base_uri": "https://localhost:8080/"
        },
        "id": "WNUthrFDCRrD",
        "outputId": "81350119-19b8-4cce-de19-8d4cddbca7a2"
      },
      "execution_count": 84,
      "outputs": [
        {
          "output_type": "stream",
          "name": "stdout",
          "text": [
            "[(5, 0), (4, 1), (2, 2), (1, 3)]\n"
          ]
        }
      ]
    },
    {
      "cell_type": "code",
      "source": [
        "#Question-9: Write a Python program that uses `map()` to convert a list of temperatures\n",
        "# from Celsius to Fahrenheit.\n",
        "def celsius_to_fahrenheit(celsius):\n",
        "    return (celsius * 9/5) + 32\n",
        "celsius_temperatures = [0, 20, 30, 40, 100]\n",
        "fahrenheit_temperatures = list(map(celsius_to_fahrenheit,\n",
        "                                   celsius_temperatures))\n",
        "\n",
        "print(\"Celsius temperatures:\", celsius_temperatures)\n",
        "print(\"Fahrenheit temperatures:\", fahrenheit_temperatures)\n",
        "celsius_temperatures = [0, 20, 30, 40, 100]"
      ],
      "metadata": {
        "colab": {
          "base_uri": "https://localhost:8080/"
        },
        "id": "Lb_PjMW7CeOG",
        "outputId": "49c45bbe-1eed-44dd-f911-b48c36759e57"
      },
      "execution_count": 85,
      "outputs": [
        {
          "output_type": "stream",
          "name": "stdout",
          "text": [
            "Celsius temperatures: [0, 20, 30, 40, 100]\n",
            "Fahrenheit temperatures: [32.0, 68.0, 86.0, 104.0, 212.0]\n"
          ]
        }
      ]
    },
    {
      "source": [
        "#Question-10: Create a Python program that uses `filter()` to remove all the vowels from a given string.\n",
        "def remove_vowels(text):\n",
        "    \"\"\"Removes vowels (a, e, i, o, u) from a given string using filter().\n",
        "\n",
        "    Args:\n",
        "        text: The input string.\n",
        "\n",
        "    Returns:\n",
        "        str: The string with vowels removed.\n",
        "    \"\"\"\n",
        "    vowels = \"aeiouAEIOU\"\n",
        "    # Use filter() to select only characters that are not vowels\n",
        "    filtered_chars = filter(lambda char: char not in vowels, text)\n",
        "    # Join the filtered characters back into a string\n",
        "    result = \"\".join(filtered_chars)\n",
        "    return result\n",
        "\n",
        "# Example usage:\n",
        "if __name__ == \"__main__\":\n",
        "    input_string = \"Hello, World!\"\n",
        "    string_without_vowels = remove_vowels(input_string)\n",
        "    print(f\"Original string: {input_string}\")\n",
        "    print(f\"String without vowels: {string_without_vowels}\")"
      ],
      "cell_type": "code",
      "metadata": {
        "colab": {
          "base_uri": "https://localhost:8080/"
        },
        "id": "xbB7EvyhD-J5",
        "outputId": "27e3a012-6f67-4821-cbd9-2d9407505657"
      },
      "execution_count": 86,
      "outputs": [
        {
          "output_type": "stream",
          "name": "stdout",
          "text": [
            "Original string: Hello, World!\n",
            "String without vowels: Hll, Wrld!\n"
          ]
        }
      ]
    },
    {
      "source": [
        "#Question-11: Imagine an accounting routine used in a book shop. It works on a list\n",
        "# with sublists, which look like this:Write a Python program, which returns a\n",
        "# list with 2-tuples. Each tuple consists of the order number and the product of\n",
        "# the price per item and the quantity. The product should be increased by 10,- €\n",
        "# if the value of the order is smaller than 100,00 €. Write a Python program\n",
        "# using lambda and map.\n",
        "orders = [\n",
        "\n",
        "[34587, \"Learning Python, Mark Lutz\", 4, 40.95],\n",
        "[98762, \"Programming Python, Mark Lutz\", 5, 56.80],\n",
        "[77226, \"Head First Python, Paul Barry\", 3, 32.95],\n",
        "[88112, \"Einführung in Python3, Bernd Klein\", 3, 24.99]\n",
        "\n",
        "]\n",
        "# The lambda expression and map function call are now on one line, eliminating the hanging indent.\n",
        "result = list(map(lambda x: (x[0], round(x[2] * x[3] + (10 if x[2] * x[3] < 100 else 0), 2)), orders))\n",
        "print(result)\n",
        "# Removed the reassignment of orders and the redundant code"
      ],
      "cell_type": "code",
      "metadata": {
        "colab": {
          "base_uri": "https://localhost:8080/"
        },
        "id": "6Yd6ItJUFDBv",
        "outputId": "355ec09a-d93a-495d-8d1b-40cd6068115e"
      },
      "execution_count": 87,
      "outputs": [
        {
          "output_type": "stream",
          "name": "stdout",
          "text": [
            "[(34587, 163.8), (98762, 284.0), (77226, 108.85), (88112, 84.97)]\n"
          ]
        }
      ]
    }
  ]
}